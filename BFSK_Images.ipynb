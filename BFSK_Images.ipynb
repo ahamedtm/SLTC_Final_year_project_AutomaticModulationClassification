{
  "nbformat": 4,
  "nbformat_minor": 0,
  "metadata": {
    "colab": {
      "provenance": [],
      "include_colab_link": true
    },
    "kernelspec": {
      "name": "python3",
      "display_name": "Python 3"
    },
    "language_info": {
      "name": "python"
    }
  },
  "cells": [
    {
      "cell_type": "markdown",
      "metadata": {
        "id": "view-in-github",
        "colab_type": "text"
      },
      "source": [
        "<a href=\"https://colab.research.google.com/github/ahamedtm/SLTC_Final_year_project_AutomaticModulationClassification/blob/main/BFSK_Images.ipynb\" target=\"_parent\"><img src=\"https://colab.research.google.com/assets/colab-badge.svg\" alt=\"Open In Colab\"/></a>"
      ]
    },
    {
      "cell_type": "markdown",
      "source": [
        "#Generate BFSK Random images and save it to the Local Server"
      ],
      "metadata": {
        "id": "-IC8aTtthsvQ"
      }
    },
    {
      "cell_type": "code",
      "source": [
        "import os\n",
        "import shutil\n",
        "import glob\n",
        "from google.colab import files\n",
        "import numpy as np\n",
        "import matplotlib.pyplot as plt\n",
        "\n",
        "num_s = 10\n",
        "mod_order = 1\n",
        "n_bits = num_s * mod_order\n",
        "\n",
        "# Generate random bits\n",
        "bit_tx = np.random.randint(2, size=(n_bits,))\n",
        "\n",
        "# Allocate space for I and Q components\n",
        "I_tx = np.zeros((int(num_s),), 'complex')\n",
        "Q_tx = np.zeros((int(num_s),), 'complex')\n",
        "\n",
        "# Modulation\n",
        "if mod_order == 4:\n",
        "    I_tx = 2 * (bit_tx[::4] + 2 * bit_tx[1::4] - 1.5) / np.sqrt(10)\n",
        "    Q_tx = 2 * (2 * bit_tx[2::4] + bit_tx[3::4] - 1.5) / np.sqrt(10)\n",
        "elif mod_order == 2:\n",
        "    I_tx = (2 * bit_tx[::2] - 1) / np.sqrt(2)\n",
        "    Q_tx = (2 * bit_tx[1::2] - 1) / np.sqrt(2)\n",
        "elif mod_order == 1:\n",
        "    I_tx = 1*bit_tx\n",
        "    Q_tx = -1*bit_tx +1\n",
        "\n",
        "# Generating the transmit signal\n",
        "sig_tx = I_tx + 1j * Q_tx\n",
        "\n",
        "# Transmit Gain (Usually fixed)\n",
        "G_tx = 1e3\n",
        "\n",
        "# Channel Attenuation\n",
        "#G_a = 0.5e-2\n",
        "G_a = 0.25e-2;\n",
        "\n",
        "# Set random seed for reproducibility\n",
        "np.random.seed(0)\n",
        "\n",
        "# Remove existing scatter plot images\n",
        "existing_files = glob.glob('/content/BFSK/*.png')\n",
        "for file in existing_files:\n",
        "    os.remove(file)\n",
        "\n",
        "# Create a directory to store scatter plot images\n",
        "BASK = '/content/BFSK'\n",
        "os.makedirs(BASK, exist_ok=True)\n",
        "\n",
        "# Generate 1000 random scatter plots\n",
        "for i in range(3):\n",
        "    n_v = np.random.randn(num_s) + 1j * np.random.randn(num_s)  # Additive white Gaussian noise\n",
        "    sig_rx = G_a * G_tx * sig_tx + n_v\n",
        "    sig_rx_n = sig_tx + n_v / (G_a * G_tx)\n",
        "\n",
        "    # Plot scatter plot\n",
        "    fig = plt.figure(figsize=(5, 5), dpi=120, facecolor='w', edgecolor='k')\n",
        "    plt.scatter(np.real(sig_rx_n), np.imag(sig_rx_n),  marker='o')\n",
        "    plt.xlim([-2, 2])\n",
        "    plt.ylim([-2, 2])\n",
        "\n",
        "\n",
        "    # Save scatter plot image\n",
        "    plt.savefig(f'/content/BFSK/BFSK_{i}.png')\n",
        "    plt.close(fig)\n",
        "\n",
        "# Create a zip file of the scatter plot images directory\n",
        "shutil.make_archive('/content/BFSK', 'zip', '/content/BFSK')\n",
        "\n",
        "# Download the scatter plot images zip file\n",
        "files.download('/content/BFSK.zip')"
      ],
      "metadata": {
        "colab": {
          "base_uri": "https://localhost:8080/",
          "height": 34
        },
        "id": "e-C0sNhmg-th",
        "outputId": "2a82c985-222e-4c5d-a7ac-311e2c599414"
      },
      "execution_count": null,
      "outputs": [
        {
          "output_type": "display_data",
          "data": {
            "text/plain": [
              "<IPython.core.display.Javascript object>"
            ],
            "application/javascript": [
              "\n",
              "    async function download(id, filename, size) {\n",
              "      if (!google.colab.kernel.accessAllowed) {\n",
              "        return;\n",
              "      }\n",
              "      const div = document.createElement('div');\n",
              "      const label = document.createElement('label');\n",
              "      label.textContent = `Downloading \"${filename}\": `;\n",
              "      div.appendChild(label);\n",
              "      const progress = document.createElement('progress');\n",
              "      progress.max = size;\n",
              "      div.appendChild(progress);\n",
              "      document.body.appendChild(div);\n",
              "\n",
              "      const buffers = [];\n",
              "      let downloaded = 0;\n",
              "\n",
              "      const channel = await google.colab.kernel.comms.open(id);\n",
              "      // Send a message to notify the kernel that we're ready.\n",
              "      channel.send({})\n",
              "\n",
              "      for await (const message of channel.messages) {\n",
              "        // Send a message to notify the kernel that we're ready.\n",
              "        channel.send({})\n",
              "        if (message.buffers) {\n",
              "          for (const buffer of message.buffers) {\n",
              "            buffers.push(buffer);\n",
              "            downloaded += buffer.byteLength;\n",
              "            progress.value = downloaded;\n",
              "          }\n",
              "        }\n",
              "      }\n",
              "      const blob = new Blob(buffers, {type: 'application/binary'});\n",
              "      const a = document.createElement('a');\n",
              "      a.href = window.URL.createObjectURL(blob);\n",
              "      a.download = filename;\n",
              "      div.appendChild(a);\n",
              "      a.click();\n",
              "      div.remove();\n",
              "    }\n",
              "  "
            ]
          },
          "metadata": {}
        },
        {
          "output_type": "display_data",
          "data": {
            "text/plain": [
              "<IPython.core.display.Javascript object>"
            ],
            "application/javascript": [
              "download(\"download_5ea76b28-d3cf-419b-b7e3-4f175a5139e3\", \"BFSK.zip\", 34723)"
            ]
          },
          "metadata": {}
        }
      ]
    },
    {
      "cell_type": "markdown",
      "source": [
        "#Generate BFSK Random images and save it to the Google Drive"
      ],
      "metadata": {
        "id": "g4D_TlM9hw4E"
      }
    },
    {
      "cell_type": "code",
      "source": [
        "from google.colab import drive\n",
        "drive.mount('/content/drive')"
      ],
      "metadata": {
        "colab": {
          "base_uri": "https://localhost:8080/"
        },
        "id": "nyJz_5kgRM5s",
        "outputId": "df52721b-572d-4b7a-ce5b-46701957bb96"
      },
      "execution_count": null,
      "outputs": [
        {
          "output_type": "stream",
          "name": "stdout",
          "text": [
            "Mounted at /content/drive\n"
          ]
        }
      ]
    },
    {
      "cell_type": "code",
      "source": [
        "#Directly upload to the Drive\n",
        "import os\n",
        "import shutil\n",
        "\n",
        "BFSK = '/content/BFSK'  # Path to the scatter plot images\n",
        "\n",
        "# Specify the destination folder in your Google Drive\n",
        "drive_folder = '/content/drive/MyDrive/Modulation Classifier/test/BFSK'  # Update with your desired folder path\n",
        "\n",
        "# Create the directory in the Google Drive folder if it doesn't already exist\n",
        "os.makedirs(drive_folder, exist_ok=True)\n",
        "\n",
        "# Move or copy scatter plot images to the Google Drive folder\n",
        "for i in range(800):\n",
        "    source_path = f'/content/BFSK_{i}.png'\n",
        "    destination_path = os.path.join(drive_folder, f'BFSK_{i}.png')\n",
        "    shutil.copy(source_path, destination_path)\n",
        "\n",
        "print('Scatter plot images copied to Google Drive:', drive_folder)\n"
      ],
      "metadata": {
        "colab": {
          "base_uri": "https://localhost:8080/"
        },
        "id": "wWJ4GWEJRR8J",
        "outputId": "784d2e44-85de-46fb-a47c-1ca85bdce8ec"
      },
      "execution_count": null,
      "outputs": [
        {
          "output_type": "stream",
          "name": "stdout",
          "text": [
            "Scatter plot images copied to Google Drive: /content/drive/MyDrive/Modulation Classifier/test/BFSK\n"
          ]
        }
      ]
    }
  ]
}